{
 "cells": [
  {
   "cell_type": "markdown",
   "metadata": {},
   "source": [
    "#### How to Manage AWS IAM Users with Python\n",
    "https://www.ipswitch.com/blog/how-to-manage-aws-iam-users-with-python"
   ]
  },
  {
   "cell_type": "code",
   "execution_count": null,
   "metadata": {},
   "outputs": [],
   "source": [
    "import boto3\n",
    "iam = boto3.client('iam', 'ap-southeast-2')"
   ]
  },
  {
   "cell_type": "markdown",
   "metadata": {},
   "source": [
    "#### Getting User Details"
   ]
  },
  {
   "cell_type": "code",
   "execution_count": null,
   "metadata": {},
   "outputs": [],
   "source": [
    "for user in iam.list_users()['Users']:\n",
    "    # print (user)\n",
    "    print(f\"User: {user['UserName']}\\n UserID: {user['UserId']}\\n Arn: {user['Arn']}\\n CreatedOm: {user['CreateDate']}\")\n"
   ]
  },
  {
   "cell_type": "markdown",
   "metadata": {},
   "source": [
    "#### Use Paginator as a workaround to output all users when there is a cap"
   ]
  },
  {
   "cell_type": "code",
   "execution_count": null,
   "metadata": {},
   "outputs": [],
   "source": [
    "paginator = iam.get_paginator('list_users')\n",
    "for page in paginator.paginate():\n",
    "    for user in page['Users']:\n",
    "        print(f\"User: {user['UserName']}\\n UserID: {user['UserId']}\\n Arn: {user['Arn']}\\n CreatedOm: {user['CreateDate']}\")"
   ]
  },
  {
   "cell_type": "markdown",
   "metadata": {},
   "source": [
    "#### Retrieve information for a user"
   ]
  },
  {
   "cell_type": "code",
   "execution_count": null,
   "metadata": {},
   "outputs": [],
   "source": [
    "# iam.get_user(UserName='ashkan')\n",
    "iam.get_user() # if no user is specified, gets user details from Access Key and Secret ID"
   ]
  },
  {
   "cell_type": "markdown",
   "metadata": {},
   "source": [
    "#### Creating a User and Assigning Policies"
   ]
  },
  {
   "cell_type": "code",
   "execution_count": null,
   "metadata": {},
   "outputs": [],
   "source": [
    "# create a user\n",
    "iam.create_user(UserName=\"ashkan-test\")\n",
    "\n",
    "#attach a policy\n",
    "iam.attach_user_policy(UserName=\"ashkan-test\", PolicyArn='arn:aws:iam::aws:policy/AmazonEC2FullAccess')"
   ]
  },
  {
   "cell_type": "markdown",
   "metadata": {},
   "source": [
    "#### Permissions"
   ]
  },
  {
   "cell_type": "code",
   "execution_count": null,
   "metadata": {},
   "outputs": [],
   "source": [
    "# for user_detail in iam.get_account_authorization_details():\n",
    "#     print(user_detail)\n",
    "\n",
    "for user_detail in iam.get_account_authorization_details(Filter=['User'])['UserDetailList']:\n",
    "    policyname = []\n",
    "    policyarn = []\n",
    "    # print(user_detail)\n",
    "\n",
    " # find each policy attached to the user\n",
    "#  print(user_detail['AttachedManagedPolicies'])\n",
    "    for policy in user_detail['AttachedManagedPolicies']:\n",
    "        policyname.append(policy['PolicyName'])\n",
    "        policyarn.append(policy['PolicyArn'])\n",
    "    \n",
    "    # print user details\n",
    "    print(f\"User: {user_detail['UserName']}\\n UserID: {user_detail['UserId']}\\n PolicyName: {policyname}\\n PolicyARN: {policyarn}\")\n",
    "\n"
   ]
  },
  {
   "cell_type": "markdown",
   "metadata": {},
   "source": [
    "#### Detach Policy before deleting User"
   ]
  },
  {
   "cell_type": "code",
   "execution_count": 38,
   "metadata": {},
   "outputs": [
    {
     "data": {
      "text/plain": [
       "{'ResponseMetadata': {'RequestId': '0af68a2f-366b-4ed9-9a22-1de61a416fa4',\n",
       "  'HTTPStatusCode': 200,\n",
       "  'HTTPHeaders': {'x-amzn-requestid': '0af68a2f-366b-4ed9-9a22-1de61a416fa4',\n",
       "   'content-type': 'text/xml',\n",
       "   'content-length': '212',\n",
       "   'date': 'Sun, 24 Jul 2022 04:14:07 GMT'},\n",
       "  'RetryAttempts': 0}}"
      ]
     },
     "execution_count": 38,
     "metadata": {},
     "output_type": "execute_result"
    }
   ],
   "source": [
    "iam.detach_user_policy(UserName = 'ashkan-test', PolicyArn = 'arn:aws:iam::aws:policy/AmazonEC2FullAccess')"
   ]
  },
  {
   "cell_type": "markdown",
   "metadata": {},
   "source": [
    "#### Delete User"
   ]
  },
  {
   "cell_type": "code",
   "execution_count": 39,
   "metadata": {},
   "outputs": [
    {
     "data": {
      "text/plain": [
       "{'ResponseMetadata': {'RequestId': 'de52b4c8-464f-4c54-8c12-0feb9bd52c3b',\n",
       "  'HTTPStatusCode': 200,\n",
       "  'HTTPHeaders': {'x-amzn-requestid': 'de52b4c8-464f-4c54-8c12-0feb9bd52c3b',\n",
       "   'content-type': 'text/xml',\n",
       "   'content-length': '200',\n",
       "   'date': 'Sun, 24 Jul 2022 04:15:04 GMT'},\n",
       "  'RetryAttempts': 0}}"
      ]
     },
     "execution_count": 39,
     "metadata": {},
     "output_type": "execute_result"
    }
   ],
   "source": [
    "iam.delete_user(UserName = 'ashkan-test')"
   ]
  }
 ],
 "metadata": {
  "kernelspec": {
   "display_name": "Python 3.10.4 ('boto3')",
   "language": "python",
   "name": "python3"
  },
  "language_info": {
   "codemirror_mode": {
    "name": "ipython",
    "version": 3
   },
   "file_extension": ".py",
   "mimetype": "text/x-python",
   "name": "python",
   "nbconvert_exporter": "python",
   "pygments_lexer": "ipython3",
   "version": "3.10.4"
  },
  "orig_nbformat": 4,
  "vscode": {
   "interpreter": {
    "hash": "b592748ac15333519fb95528ec2bdbe006a4db2ba323a26c3bf189b030670638"
   }
  }
 },
 "nbformat": 4,
 "nbformat_minor": 2
}
