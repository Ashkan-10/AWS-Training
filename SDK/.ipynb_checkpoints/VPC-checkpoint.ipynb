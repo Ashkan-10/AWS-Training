{
 "cells": [
  {
   "cell_type": "markdown",
   "id": "b9003866-20d5-4510-b4cb-30792fd393c8",
   "metadata": {
    "tags": []
   },
   "source": [
    "### This is a sample SDK to create a VPC"
   ]
  },
  {
   "cell_type": "code",
   "execution_count": null,
   "id": "76a8a943-192e-48de-95fd-41eebcd11b32",
   "metadata": {},
   "outputs": [],
   "source": [
    "print(\"Hello World\")"
   ]
  },
  {
   "cell_type": "code",
   "execution_count": null,
   "id": "d5d627e2-8d90-46cd-96a5-6f4848a18646",
   "metadata": {},
   "outputs": [],
   "source": [
    "arr3 = [5,10,15]\n",
    "for x in arr3:\n",
    "    print(x)"
   ]
  },
  {
   "cell_type": "code",
   "execution_count": 4,
   "id": "8ed78223-3d5f-4e6f-bfc8-394ca3ad8946",
   "metadata": {},
   "outputs": [
    {
     "data": {
      "text/plain": [
       "{'ResponseMetadata': {'RequestId': '8YX4YDK9KH318J4N',\n",
       "  'HostId': 'FzWcNiIi7qFhvTLtRHvg8jVqBezC9YKqc+9QOoUc+xsJTIi3U66vttG5dv2Gg/AJ0CSknLDobYY=',\n",
       "  'HTTPStatusCode': 200,\n",
       "  'HTTPHeaders': {'x-amz-id-2': 'FzWcNiIi7qFhvTLtRHvg8jVqBezC9YKqc+9QOoUc+xsJTIi3U66vttG5dv2Gg/AJ0CSknLDobYY=',\n",
       "   'x-amz-request-id': '8YX4YDK9KH318J4N',\n",
       "   'date': 'Sun, 03 Jul 2022 08:58:52 GMT',\n",
       "   'content-type': 'application/xml',\n",
       "   'transfer-encoding': 'chunked',\n",
       "   'server': 'AmazonS3'},\n",
       "  'RetryAttempts': 0},\n",
       " 'Buckets': [{'Name': 'cdk-hnb659fds-assets-165109507155-ap-southeast-2',\n",
       "   'CreationDate': datetime.datetime(2022, 5, 29, 9, 36, 58, tzinfo=tzutc())},\n",
       "  {'Name': 'config-bucket-165109507155',\n",
       "   'CreationDate': datetime.datetime(2021, 5, 27, 14, 57, 5, tzinfo=tzutc())},\n",
       "  {'Name': 'iamaccesslogsathena',\n",
       "   'CreationDate': datetime.datetime(2022, 6, 7, 13, 15, 29, tzinfo=tzutc())},\n",
       "  {'Name': 'it-sandbox-bucket-1',\n",
       "   'CreationDate': datetime.datetime(2022, 3, 14, 15, 7, 20, tzinfo=tzutc())},\n",
       "  {'Name': 'it-sandbox-bucket-2',\n",
       "   'CreationDate': datetime.datetime(2021, 6, 10, 8, 13, 34, tzinfo=tzutc())},\n",
       "  {'Name': 'test-2-uckettagfugro',\n",
       "   'CreationDate': datetime.datetime(2021, 6, 10, 8, 15, 44, tzinfo=tzutc())},\n",
       "  {'Name': 'test-3-fugrotagbucket',\n",
       "   'CreationDate': datetime.datetime(2021, 6, 1, 9, 43, 30, tzinfo=tzutc())},\n",
       "  {'Name': 'test-bucket-fugrotag',\n",
       "   'CreationDate': datetime.datetime(2021, 6, 1, 9, 37, 35, tzinfo=tzutc())},\n",
       "  {'Name': 'test-bucket-taggingfugro',\n",
       "   'CreationDate': datetime.datetime(2021, 6, 1, 9, 36, 48, tzinfo=tzutc())}],\n",
       " 'Owner': {'DisplayName': 'gbl-xx-it-sandbox-dev',\n",
       "  'ID': '2205dad3401ad3385935430a1defa03c6fd3bf05006c72879b699e5d7a4081bd'}}"
      ]
     },
     "execution_count": 4,
     "metadata": {},
     "output_type": "execute_result"
    }
   ],
   "source": [
    "import boto3\n",
    "\n",
    "s3 = boto3.client('s3')\n",
    "response = s3.list_buckets()\n",
    "response"
   ]
  },
  {
   "cell_type": "code",
   "execution_count": null,
   "id": "4f9e560b-f5af-4087-8b06-fa2fe0117979",
   "metadata": {},
   "outputs": [],
   "source": []
  }
 ],
 "metadata": {
  "kernelspec": {
   "display_name": "Python 3 (ipykernel)",
   "language": "python",
   "name": "python3"
  },
  "language_info": {
   "codemirror_mode": {
    "name": "ipython",
    "version": 3
   },
   "file_extension": ".py",
   "mimetype": "text/x-python",
   "name": "python",
   "nbconvert_exporter": "python",
   "pygments_lexer": "ipython3",
   "version": "3.10.4"
  }
 },
 "nbformat": 4,
 "nbformat_minor": 5
}
