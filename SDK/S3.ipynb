{
 "cells": [
  {
   "cell_type": "code",
   "execution_count": null,
   "metadata": {},
   "outputs": [],
   "source": [
    "import boto3\n",
    "import json\n",
    "s3 = boto3.client('s3')\n",
    "region = 'ap-southeast-2'\n",
    "bucket_name = 'prateek-static-website-939393'"
   ]
  },
  {
   "cell_type": "markdown",
   "metadata": {},
   "source": [
    "#### List Existing Buckets"
   ]
  },
  {
   "cell_type": "code",
   "execution_count": null,
   "metadata": {},
   "outputs": [],
   "source": [
    "\n",
    "response = s3.list_buckets()\n",
    "# print(response['Buckets'][0])\n",
    "for bucket in response['Buckets']:\n",
    "    print (f\"BucketName: {bucket['Name']}\")"
   ]
  },
  {
   "cell_type": "markdown",
   "metadata": {},
   "source": [
    "#### Create a new bucket"
   ]
  },
  {
   "cell_type": "code",
   "execution_count": null,
   "metadata": {},
   "outputs": [],
   "source": [
    "location = {'LocationConstraint' : region}\n",
    "# s3_client.create_bucket(Bucket=bucket, CreateBucketConfiguration=location)\n",
    "s3.create_bucket(Bucket= bucket_name, CreateBucketConfiguration=location)"
   ]
  },
  {
   "cell_type": "markdown",
   "metadata": {},
   "source": [
    "#### Bucket Policy"
   ]
  },
  {
   "cell_type": "code",
   "execution_count": null,
   "metadata": {},
   "outputs": [],
   "source": [
    "bucket_policy = {\n",
    "     'Version': '2012-10-17',\n",
    "     'Statement': [{\n",
    "         'Sid': 'AddPerm',\n",
    "         'Effect': 'Allow',\n",
    "         'Principal': '*',\n",
    "         'Action': ['s3:GetObject'],\n",
    "         'Resource': \"arn:aws:s3:::%s/*\" % bucket_name\n",
    "      }]\n",
    " }\n",
    "bucket_policy = json.dumps(bucket_policy)\n",
    "s3.put_bucket_policy(Bucket=bucket_name, Policy=bucket_policy)"
   ]
  },
  {
   "cell_type": "markdown",
   "metadata": {},
   "source": [
    "#### Enable Static Website Hosting on AWS S3 Bucket"
   ]
  },
  {
   "cell_type": "code",
   "execution_count": 12,
   "metadata": {},
   "outputs": [
    {
     "data": {
      "text/plain": [
       "{'ResponseMetadata': {'RequestId': 'TWGY083GSEBV0ARX',\n",
       "  'HostId': 'y02S3bcuaIMzXlwd9ADULilHPmys8zrWXnlKRypXZl2LtIEPK0DYEtoyYZ3WdAksTp+AaS2ty4k=',\n",
       "  'HTTPStatusCode': 200,\n",
       "  'HTTPHeaders': {'x-amz-id-2': 'y02S3bcuaIMzXlwd9ADULilHPmys8zrWXnlKRypXZl2LtIEPK0DYEtoyYZ3WdAksTp+AaS2ty4k=',\n",
       "   'x-amz-request-id': 'TWGY083GSEBV0ARX',\n",
       "   'date': 'Sun, 17 Jul 2022 05:00:37 GMT',\n",
       "   'server': 'AmazonS3',\n",
       "   'content-length': '0'},\n",
       "  'RetryAttempts': 0}}"
      ]
     },
     "execution_count": 12,
     "metadata": {},
     "output_type": "execute_result"
    }
   ],
   "source": [
    "s3.put_bucket_website(\n",
    "     Bucket= bucket_name,\n",
    "     WebsiteConfiguration={\n",
    "     'ErrorDocument': {'Key': 'error.html'},\n",
    "     'IndexDocument': {'Suffix': 'index.html'},\n",
    "    }\n",
    " )"
   ]
  },
  {
   "cell_type": "markdown",
   "metadata": {},
   "source": [
    "#### Uploading HTML Documents for the Static Website"
   ]
  },
  {
   "cell_type": "code",
   "execution_count": 14,
   "metadata": {},
   "outputs": [
    {
     "ename": "TypeError",
     "evalue": "Strings must be encoded before hashing",
     "output_type": "error",
     "traceback": [
      "\u001b[0;31m---------------------------------------------------------------------------\u001b[0m",
      "\u001b[0;31mTypeError\u001b[0m                                 Traceback (most recent call last)",
      "\u001b[1;32m/Users/ashkan/Dev/AWS-Training/SDK/S3.ipynb Cell 11\u001b[0m in \u001b[0;36m<cell line: 4>\u001b[0;34m()\u001b[0m\n\u001b[1;32m      <a href='vscode-notebook-cell:/Users/ashkan/Dev/AWS-Training/SDK/S3.ipynb#ch0000014?line=3'>4</a>\u001b[0m \u001b[39mfor\u001b[39;00m file \u001b[39min\u001b[39;00m filename:\n\u001b[1;32m      <a href='vscode-notebook-cell:/Users/ashkan/Dev/AWS-Training/SDK/S3.ipynb#ch0000014?line=4'>5</a>\u001b[0m         data \u001b[39m=\u001b[39m \u001b[39mopen\u001b[39m(file)\n\u001b[0;32m----> <a href='vscode-notebook-cell:/Users/ashkan/Dev/AWS-Training/SDK/S3.ipynb#ch0000014?line=5'>6</a>\u001b[0m         s3\u001b[39m.\u001b[39;49mput_object(  Body\u001b[39m=\u001b[39;49mdata,\n\u001b[1;32m      <a href='vscode-notebook-cell:/Users/ashkan/Dev/AWS-Training/SDK/S3.ipynb#ch0000014?line=6'>7</a>\u001b[0m                         Bucket\u001b[39m=\u001b[39;49m\u001b[39m'\u001b[39;49m\u001b[39mprateek-static-website\u001b[39;49m\u001b[39m'\u001b[39;49m,\n\u001b[1;32m      <a href='vscode-notebook-cell:/Users/ashkan/Dev/AWS-Training/SDK/S3.ipynb#ch0000014?line=7'>8</a>\u001b[0m                         Key\u001b[39m=\u001b[39;49mfile,\n\u001b[1;32m      <a href='vscode-notebook-cell:/Users/ashkan/Dev/AWS-Training/SDK/S3.ipynb#ch0000014?line=8'>9</a>\u001b[0m                         ContentType\u001b[39m=\u001b[39;49m\u001b[39m'\u001b[39;49m\u001b[39mtext/html\u001b[39;49m\u001b[39m'\u001b[39;49m )\n",
      "File \u001b[0;32m/opt/miniconda3/envs/boto3/lib/python3.10/site-packages/botocore/client.py:508\u001b[0m, in \u001b[0;36mClientCreator._create_api_method.<locals>._api_call\u001b[0;34m(self, *args, **kwargs)\u001b[0m\n\u001b[1;32m    504\u001b[0m     \u001b[39mraise\u001b[39;00m \u001b[39mTypeError\u001b[39;00m(\n\u001b[1;32m    505\u001b[0m         \u001b[39mf\u001b[39m\u001b[39m\"\u001b[39m\u001b[39m{\u001b[39;00mpy_operation_name\u001b[39m}\u001b[39;00m\u001b[39m() only accepts keyword arguments.\u001b[39m\u001b[39m\"\u001b[39m\n\u001b[1;32m    506\u001b[0m     )\n\u001b[1;32m    507\u001b[0m \u001b[39m# The \"self\" in this scope is referring to the BaseClient.\u001b[39;00m\n\u001b[0;32m--> 508\u001b[0m \u001b[39mreturn\u001b[39;00m \u001b[39mself\u001b[39;49m\u001b[39m.\u001b[39;49m_make_api_call(operation_name, kwargs)\n",
      "File \u001b[0;32m/opt/miniconda3/envs/boto3/lib/python3.10/site-packages/botocore/client.py:880\u001b[0m, in \u001b[0;36mBaseClient._make_api_call\u001b[0;34m(self, operation_name, api_params)\u001b[0m\n\u001b[1;32m    877\u001b[0m resolve_checksum_context(request_dict, operation_model, api_params)\n\u001b[1;32m    879\u001b[0m service_id \u001b[39m=\u001b[39m \u001b[39mself\u001b[39m\u001b[39m.\u001b[39m_service_model\u001b[39m.\u001b[39mservice_id\u001b[39m.\u001b[39mhyphenize()\n\u001b[0;32m--> 880\u001b[0m handler, event_response \u001b[39m=\u001b[39m \u001b[39mself\u001b[39;49m\u001b[39m.\u001b[39;49mmeta\u001b[39m.\u001b[39;49mevents\u001b[39m.\u001b[39;49memit_until_response(\n\u001b[1;32m    881\u001b[0m     \u001b[39m'\u001b[39;49m\u001b[39mbefore-call.\u001b[39;49m\u001b[39m{service_id}\u001b[39;49;00m\u001b[39m.\u001b[39;49m\u001b[39m{operation_name}\u001b[39;49;00m\u001b[39m'\u001b[39;49m\u001b[39m.\u001b[39;49mformat(\n\u001b[1;32m    882\u001b[0m         service_id\u001b[39m=\u001b[39;49mservice_id, operation_name\u001b[39m=\u001b[39;49moperation_name\n\u001b[1;32m    883\u001b[0m     ),\n\u001b[1;32m    884\u001b[0m     model\u001b[39m=\u001b[39;49moperation_model,\n\u001b[1;32m    885\u001b[0m     params\u001b[39m=\u001b[39;49mrequest_dict,\n\u001b[1;32m    886\u001b[0m     request_signer\u001b[39m=\u001b[39;49m\u001b[39mself\u001b[39;49m\u001b[39m.\u001b[39;49m_request_signer,\n\u001b[1;32m    887\u001b[0m     context\u001b[39m=\u001b[39;49mrequest_context,\n\u001b[1;32m    888\u001b[0m )\n\u001b[1;32m    890\u001b[0m \u001b[39mif\u001b[39;00m event_response \u001b[39mis\u001b[39;00m \u001b[39mnot\u001b[39;00m \u001b[39mNone\u001b[39;00m:\n\u001b[1;32m    891\u001b[0m     http, parsed_response \u001b[39m=\u001b[39m event_response\n",
      "File \u001b[0;32m/opt/miniconda3/envs/boto3/lib/python3.10/site-packages/botocore/hooks.py:416\u001b[0m, in \u001b[0;36mEventAliaser.emit_until_response\u001b[0;34m(self, event_name, **kwargs)\u001b[0m\n\u001b[1;32m    414\u001b[0m \u001b[39mdef\u001b[39;00m \u001b[39memit_until_response\u001b[39m(\u001b[39mself\u001b[39m, event_name, \u001b[39m*\u001b[39m\u001b[39m*\u001b[39mkwargs):\n\u001b[1;32m    415\u001b[0m     aliased_event_name \u001b[39m=\u001b[39m \u001b[39mself\u001b[39m\u001b[39m.\u001b[39m_alias_event_name(event_name)\n\u001b[0;32m--> 416\u001b[0m     \u001b[39mreturn\u001b[39;00m \u001b[39mself\u001b[39;49m\u001b[39m.\u001b[39;49m_emitter\u001b[39m.\u001b[39;49memit_until_response(aliased_event_name, \u001b[39m*\u001b[39;49m\u001b[39m*\u001b[39;49mkwargs)\n",
      "File \u001b[0;32m/opt/miniconda3/envs/boto3/lib/python3.10/site-packages/botocore/hooks.py:271\u001b[0m, in \u001b[0;36mHierarchicalEmitter.emit_until_response\u001b[0;34m(self, event_name, **kwargs)\u001b[0m\n\u001b[1;32m    258\u001b[0m \u001b[39mdef\u001b[39;00m \u001b[39memit_until_response\u001b[39m(\u001b[39mself\u001b[39m, event_name, \u001b[39m*\u001b[39m\u001b[39m*\u001b[39mkwargs):\n\u001b[1;32m    259\u001b[0m     \u001b[39m\"\"\"\u001b[39;00m\n\u001b[1;32m    260\u001b[0m \u001b[39m    Emit an event by name with arguments passed as keyword args,\u001b[39;00m\n\u001b[1;32m    261\u001b[0m \u001b[39m    until the first non-``None`` response is received. This\u001b[39;00m\n\u001b[0;32m   (...)\u001b[0m\n\u001b[1;32m    269\u001b[0m \u001b[39m             is not ``None``, otherwise (``None``, ``None``).\u001b[39;00m\n\u001b[1;32m    270\u001b[0m \u001b[39m    \"\"\"\u001b[39;00m\n\u001b[0;32m--> 271\u001b[0m     responses \u001b[39m=\u001b[39m \u001b[39mself\u001b[39;49m\u001b[39m.\u001b[39;49m_emit(event_name, kwargs, stop_on_response\u001b[39m=\u001b[39;49m\u001b[39mTrue\u001b[39;49;00m)\n\u001b[1;32m    272\u001b[0m     \u001b[39mif\u001b[39;00m responses:\n\u001b[1;32m    273\u001b[0m         \u001b[39mreturn\u001b[39;00m responses[\u001b[39m-\u001b[39m\u001b[39m1\u001b[39m]\n",
      "File \u001b[0;32m/opt/miniconda3/envs/boto3/lib/python3.10/site-packages/botocore/hooks.py:239\u001b[0m, in \u001b[0;36mHierarchicalEmitter._emit\u001b[0;34m(self, event_name, kwargs, stop_on_response)\u001b[0m\n\u001b[1;32m    237\u001b[0m \u001b[39mfor\u001b[39;00m handler \u001b[39min\u001b[39;00m handlers_to_call:\n\u001b[1;32m    238\u001b[0m     logger\u001b[39m.\u001b[39mdebug(\u001b[39m'\u001b[39m\u001b[39mEvent \u001b[39m\u001b[39m%s\u001b[39;00m\u001b[39m: calling handler \u001b[39m\u001b[39m%s\u001b[39;00m\u001b[39m'\u001b[39m, event_name, handler)\n\u001b[0;32m--> 239\u001b[0m     response \u001b[39m=\u001b[39m handler(\u001b[39m*\u001b[39;49m\u001b[39m*\u001b[39;49mkwargs)\n\u001b[1;32m    240\u001b[0m     responses\u001b[39m.\u001b[39mappend((handler, response))\n\u001b[1;32m    241\u001b[0m     \u001b[39mif\u001b[39;00m stop_on_response \u001b[39mand\u001b[39;00m response \u001b[39mis\u001b[39;00m \u001b[39mnot\u001b[39;00m \u001b[39mNone\u001b[39;00m:\n",
      "File \u001b[0;32m/opt/miniconda3/envs/boto3/lib/python3.10/site-packages/botocore/utils.py:2747\u001b[0m, in \u001b[0;36mconditionally_calculate_md5\u001b[0;34m(params, **kwargs)\u001b[0m\n\u001b[1;32m   2745\u001b[0m         \u001b[39mreturn\u001b[39;00m\n\u001b[1;32m   2746\u001b[0m \u001b[39mif\u001b[39;00m MD5_AVAILABLE \u001b[39mand\u001b[39;00m body \u001b[39mis\u001b[39;00m \u001b[39mnot\u001b[39;00m \u001b[39mNone\u001b[39;00m \u001b[39mand\u001b[39;00m \u001b[39m'\u001b[39m\u001b[39mContent-MD5\u001b[39m\u001b[39m'\u001b[39m \u001b[39mnot\u001b[39;00m \u001b[39min\u001b[39;00m headers:\n\u001b[0;32m-> 2747\u001b[0m     md5_digest \u001b[39m=\u001b[39m calculate_md5(body, \u001b[39m*\u001b[39;49m\u001b[39m*\u001b[39;49mkwargs)\n\u001b[1;32m   2748\u001b[0m     params[\u001b[39m'\u001b[39m\u001b[39mheaders\u001b[39m\u001b[39m'\u001b[39m][\u001b[39m'\u001b[39m\u001b[39mContent-MD5\u001b[39m\u001b[39m'\u001b[39m] \u001b[39m=\u001b[39m md5_digest\n",
      "File \u001b[0;32m/opt/miniconda3/envs/boto3/lib/python3.10/site-packages/botocore/utils.py:2714\u001b[0m, in \u001b[0;36mcalculate_md5\u001b[0;34m(body, **kwargs)\u001b[0m\n\u001b[1;32m   2712\u001b[0m     binary_md5 \u001b[39m=\u001b[39m _calculate_md5_from_bytes(body)\n\u001b[1;32m   2713\u001b[0m \u001b[39melse\u001b[39;00m:\n\u001b[0;32m-> 2714\u001b[0m     binary_md5 \u001b[39m=\u001b[39m _calculate_md5_from_file(body)\n\u001b[1;32m   2715\u001b[0m \u001b[39mreturn\u001b[39;00m base64\u001b[39m.\u001b[39mb64encode(binary_md5)\u001b[39m.\u001b[39mdecode(\u001b[39m'\u001b[39m\u001b[39mascii\u001b[39m\u001b[39m'\u001b[39m)\n",
      "File \u001b[0;32m/opt/miniconda3/envs/boto3/lib/python3.10/site-packages/botocore/utils.py:2727\u001b[0m, in \u001b[0;36m_calculate_md5_from_file\u001b[0;34m(fileobj)\u001b[0m\n\u001b[1;32m   2725\u001b[0m md5 \u001b[39m=\u001b[39m get_md5()\n\u001b[1;32m   2726\u001b[0m \u001b[39mfor\u001b[39;00m chunk \u001b[39min\u001b[39;00m \u001b[39miter\u001b[39m(\u001b[39mlambda\u001b[39;00m: fileobj\u001b[39m.\u001b[39mread(\u001b[39m1024\u001b[39m \u001b[39m*\u001b[39m \u001b[39m1024\u001b[39m), \u001b[39mb\u001b[39m\u001b[39m'\u001b[39m\u001b[39m'\u001b[39m):\n\u001b[0;32m-> 2727\u001b[0m     md5\u001b[39m.\u001b[39;49mupdate(chunk)\n\u001b[1;32m   2728\u001b[0m fileobj\u001b[39m.\u001b[39mseek(start_position)\n\u001b[1;32m   2729\u001b[0m \u001b[39mreturn\u001b[39;00m md5\u001b[39m.\u001b[39mdigest()\n",
      "\u001b[0;31mTypeError\u001b[0m: Strings must be encoded before hashing"
     ]
    }
   ],
   "source": [
    "filename = ['index.html','error.html']\n",
    "bucket_name = 'prateek-static-website-939393'\n",
    " \n",
    "for file in filename:\n",
    "        data = open(file)\n",
    "        s3.put_object(  Body=data,\n",
    "                        Bucket='prateek-static-website',\n",
    "                        Key=file,\n",
    "                        ContentType='text/html' )"
   ]
  }
 ],
 "metadata": {
  "kernelspec": {
   "display_name": "Python 3.10.4 ('boto3')",
   "language": "python",
   "name": "python3"
  },
  "language_info": {
   "codemirror_mode": {
    "name": "ipython",
    "version": 3
   },
   "file_extension": ".py",
   "mimetype": "text/x-python",
   "name": "python",
   "nbconvert_exporter": "python",
   "pygments_lexer": "ipython3",
   "version": "3.10.4"
  },
  "orig_nbformat": 4,
  "vscode": {
   "interpreter": {
    "hash": "b592748ac15333519fb95528ec2bdbe006a4db2ba323a26c3bf189b030670638"
   }
  }
 },
 "nbformat": 4,
 "nbformat_minor": 2
}
