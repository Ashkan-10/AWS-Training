{
 "cells": [
  {
   "cell_type": "markdown",
   "id": "b9003866-20d5-4510-b4cb-30792fd393c8",
   "metadata": {
    "tags": []
   },
   "source": [
    "### This is a sample SDK to create a VPC"
   ]
  },
  {
   "cell_type": "code",
   "execution_count": null,
   "id": "76a8a943-192e-48de-95fd-41eebcd11b32",
   "metadata": {},
   "outputs": [],
   "source": [
    "import boto3\n",
    "ec2 = boto3.resource('ec2')\n",
    "\n",
    "#create VPC\n",
    "vpc = ec2.create_vpc(CidrBlock='10.1.0.0/16')\n",
    "\n",
    "# assign a name to our VPC\n",
    "vpc.create_tags(Tags=[{\"Key\": \"Name\", \"Value\": \"ashkan-vpc\"}])\n",
    "vpc.wait_until_available()\n",
    "\n"
   ]
  },
  {
   "cell_type": "code",
   "execution_count": null,
   "id": "d9d2d742-9fa4-43ec-9c0d-3652e6b64fc1",
   "metadata": {},
   "outputs": [],
   "source": [
    "# enable public dns hostname so that we can SSH into it later\n",
    "ec2Client = boto3.client('ec2')\n",
    "ec2Client.modify_vpc_attribute( VpcId = vpc.id , EnableDnsSupport = { 'Value': True } )\n",
    "ec2Client.modify_vpc_attribute( VpcId = vpc.id , EnableDnsHostnames = { 'Value': True } )\n"
   ]
  },
  {
   "cell_type": "code",
   "execution_count": null,
   "id": "b9288224",
   "metadata": {},
   "outputs": [],
   "source": [
    "# create an internet gateway and attach it to VPC\n",
    "internetgateway = ec2.create_internet_gateway()\n",
    "vpc.attach_internet_gateway(InternetGatewayId=internetgateway.id)"
   ]
  },
  {
   "cell_type": "markdown",
   "id": "bcebbfe0",
   "metadata": {},
   "source": [
    "#### Route Tables"
   ]
  },
  {
   "cell_type": "code",
   "execution_count": null,
   "id": "7cbf1a18",
   "metadata": {},
   "outputs": [],
   "source": [
    "# create a route table and a public route\n",
    "routetable = vpc.create_route_table()\n",
    "route = routetable.create_route(DestinationCidrBlock='0.0.0.0/0', GatewayId=internetgateway.id)"
   ]
  },
  {
   "cell_type": "markdown",
   "id": "95473cdd",
   "metadata": {},
   "source": [
    "#### Create subnet and associate it with route table"
   ]
  },
  {
   "cell_type": "code",
   "execution_count": null,
   "id": "8cd4e5e7",
   "metadata": {},
   "outputs": [],
   "source": [
    "\n",
    "subnet = ec2.create_subnet(CidrBlock='10.1.0.0/24', VpcId=vpc.id)\n",
    "routetable.associate_with_subnet(SubnetId=subnet.id)"
   ]
  },
  {
   "cell_type": "markdown",
   "id": "13ffa6d7",
   "metadata": {},
   "source": [
    "#### Create a security group and allow SSH inbound rule through the VPC"
   ]
  },
  {
   "cell_type": "code",
   "execution_count": null,
   "id": "4ac53422",
   "metadata": {},
   "outputs": [],
   "source": [
    "# Create a security group and allow SSH inbound rule through the VPC\n",
    "securitygroup = ec2.create_security_group(GroupName='SSH-ONLY', Description='only allow SSH traffic', VpcId=vpc.id)\n",
    "securitygroup.authorize_ingress(CidrIp='0.0.0.0/0', IpProtocol='tcp', FromPort=22, ToPort=22)"
   ]
  },
  {
   "cell_type": "markdown",
   "id": "de26d2f5",
   "metadata": {},
   "source": [
    "#### Create a linux instance in the subnet"
   ]
  },
  {
   "cell_type": "code",
   "execution_count": 8,
   "id": "6dce1cfb",
   "metadata": {},
   "outputs": [
    {
     "ename": "ClientError",
     "evalue": "An error occurred (InvalidAMIID.NotFound) when calling the RunInstances operation: The image id '[ami-0de53d8956e8dcf80]' does not exist",
     "output_type": "error",
     "traceback": [
      "\u001b[0;31m---------------------------------------------------------------------------\u001b[0m",
      "\u001b[0;31mClientError\u001b[0m                               Traceback (most recent call last)",
      "\u001b[1;32m/Users/ashkan/Dev/AWS-Training/SDK/VPC.ipynb Cell 12'\u001b[0m in \u001b[0;36m<cell line: 1>\u001b[0;34m()\u001b[0m\n\u001b[0;32m----> <a href='vscode-notebook-cell:/Users/ashkan/Dev/AWS-Training/SDK/VPC.ipynb#ch0000013?line=0'>1</a>\u001b[0m instances \u001b[39m=\u001b[39m ec2\u001b[39m.\u001b[39;49mcreate_instances(\n\u001b[1;32m      <a href='vscode-notebook-cell:/Users/ashkan/Dev/AWS-Training/SDK/VPC.ipynb#ch0000013?line=1'>2</a>\u001b[0m  ImageId\u001b[39m=\u001b[39;49m\u001b[39m'\u001b[39;49m\u001b[39mami-0de53d8956e8dcf80\u001b[39;49m\u001b[39m'\u001b[39;49m,\n\u001b[1;32m      <a href='vscode-notebook-cell:/Users/ashkan/Dev/AWS-Training/SDK/VPC.ipynb#ch0000013?line=2'>3</a>\u001b[0m  InstanceType\u001b[39m=\u001b[39;49m\u001b[39m'\u001b[39;49m\u001b[39mt2.micro\u001b[39;49m\u001b[39m'\u001b[39;49m,\n\u001b[1;32m      <a href='vscode-notebook-cell:/Users/ashkan/Dev/AWS-Training/SDK/VPC.ipynb#ch0000013?line=3'>4</a>\u001b[0m  MaxCount\u001b[39m=\u001b[39;49m\u001b[39m1\u001b[39;49m,\n\u001b[1;32m      <a href='vscode-notebook-cell:/Users/ashkan/Dev/AWS-Training/SDK/VPC.ipynb#ch0000013?line=4'>5</a>\u001b[0m  MinCount\u001b[39m=\u001b[39;49m\u001b[39m1\u001b[39;49m,\n\u001b[1;32m      <a href='vscode-notebook-cell:/Users/ashkan/Dev/AWS-Training/SDK/VPC.ipynb#ch0000013?line=5'>6</a>\u001b[0m  NetworkInterfaces\u001b[39m=\u001b[39;49m[{\n\u001b[1;32m      <a href='vscode-notebook-cell:/Users/ashkan/Dev/AWS-Training/SDK/VPC.ipynb#ch0000013?line=6'>7</a>\u001b[0m  \u001b[39m'\u001b[39;49m\u001b[39mSubnetId\u001b[39;49m\u001b[39m'\u001b[39;49m: subnet\u001b[39m.\u001b[39;49mid,\n\u001b[1;32m      <a href='vscode-notebook-cell:/Users/ashkan/Dev/AWS-Training/SDK/VPC.ipynb#ch0000013?line=7'>8</a>\u001b[0m  \u001b[39m'\u001b[39;49m\u001b[39mDeviceIndex\u001b[39;49m\u001b[39m'\u001b[39;49m: \u001b[39m0\u001b[39;49m,\n\u001b[1;32m      <a href='vscode-notebook-cell:/Users/ashkan/Dev/AWS-Training/SDK/VPC.ipynb#ch0000013?line=8'>9</a>\u001b[0m  \u001b[39m'\u001b[39;49m\u001b[39mAssociatePublicIpAddress\u001b[39;49m\u001b[39m'\u001b[39;49m: \u001b[39mTrue\u001b[39;49;00m,\n\u001b[1;32m     <a href='vscode-notebook-cell:/Users/ashkan/Dev/AWS-Training/SDK/VPC.ipynb#ch0000013?line=9'>10</a>\u001b[0m  \u001b[39m'\u001b[39;49m\u001b[39mGroups\u001b[39;49m\u001b[39m'\u001b[39;49m: [securitygroup\u001b[39m.\u001b[39;49mgroup_id]\n\u001b[1;32m     <a href='vscode-notebook-cell:/Users/ashkan/Dev/AWS-Training/SDK/VPC.ipynb#ch0000013?line=10'>11</a>\u001b[0m  }],\n\u001b[1;32m     <a href='vscode-notebook-cell:/Users/ashkan/Dev/AWS-Training/SDK/VPC.ipynb#ch0000013?line=11'>12</a>\u001b[0m  KeyName\u001b[39m=\u001b[39;49m\u001b[39m'\u001b[39;49m\u001b[39mashkan-keypair\u001b[39;49m\u001b[39m'\u001b[39;49m)\n",
      "File \u001b[0;32m/opt/miniconda3/envs/boto3/lib/python3.10/site-packages/boto3/resources/factory.py:580\u001b[0m, in \u001b[0;36mResourceFactory._create_action.<locals>.do_action\u001b[0;34m(self, *args, **kwargs)\u001b[0m\n\u001b[1;32m    579\u001b[0m \u001b[39mdef\u001b[39;00m \u001b[39mdo_action\u001b[39m(\u001b[39mself\u001b[39m, \u001b[39m*\u001b[39margs, \u001b[39m*\u001b[39m\u001b[39m*\u001b[39mkwargs):\n\u001b[0;32m--> 580\u001b[0m     response \u001b[39m=\u001b[39m action(\u001b[39mself\u001b[39;49m, \u001b[39m*\u001b[39;49margs, \u001b[39m*\u001b[39;49m\u001b[39m*\u001b[39;49mkwargs)\n\u001b[1;32m    582\u001b[0m     \u001b[39mif\u001b[39;00m \u001b[39mhasattr\u001b[39m(\u001b[39mself\u001b[39m, \u001b[39m'\u001b[39m\u001b[39mload\u001b[39m\u001b[39m'\u001b[39m):\n\u001b[1;32m    583\u001b[0m         \u001b[39m# Clear cached data. It will be reloaded the next\u001b[39;00m\n\u001b[1;32m    584\u001b[0m         \u001b[39m# time that an attribute is accessed.\u001b[39;00m\n\u001b[1;32m    585\u001b[0m         \u001b[39m# TODO: Make this configurable in the future?\u001b[39;00m\n\u001b[1;32m    586\u001b[0m         \u001b[39mself\u001b[39m\u001b[39m.\u001b[39mmeta\u001b[39m.\u001b[39mdata \u001b[39m=\u001b[39m \u001b[39mNone\u001b[39;00m\n",
      "File \u001b[0;32m/opt/miniconda3/envs/boto3/lib/python3.10/site-packages/boto3/resources/action.py:88\u001b[0m, in \u001b[0;36mServiceAction.__call__\u001b[0;34m(self, parent, *args, **kwargs)\u001b[0m\n\u001b[1;32m     79\u001b[0m params\u001b[39m.\u001b[39mupdate(kwargs)\n\u001b[1;32m     81\u001b[0m logger\u001b[39m.\u001b[39mdebug(\n\u001b[1;32m     82\u001b[0m     \u001b[39m'\u001b[39m\u001b[39mCalling \u001b[39m\u001b[39m%s\u001b[39;00m\u001b[39m:\u001b[39m\u001b[39m%s\u001b[39;00m\u001b[39m with \u001b[39m\u001b[39m%r\u001b[39;00m\u001b[39m'\u001b[39m,\n\u001b[1;32m     83\u001b[0m     parent\u001b[39m.\u001b[39mmeta\u001b[39m.\u001b[39mservice_name,\n\u001b[1;32m     84\u001b[0m     operation_name,\n\u001b[1;32m     85\u001b[0m     params,\n\u001b[1;32m     86\u001b[0m )\n\u001b[0;32m---> 88\u001b[0m response \u001b[39m=\u001b[39m \u001b[39mgetattr\u001b[39;49m(parent\u001b[39m.\u001b[39;49mmeta\u001b[39m.\u001b[39;49mclient, operation_name)(\u001b[39m*\u001b[39;49margs, \u001b[39m*\u001b[39;49m\u001b[39m*\u001b[39;49mparams)\n\u001b[1;32m     90\u001b[0m logger\u001b[39m.\u001b[39mdebug(\u001b[39m'\u001b[39m\u001b[39mResponse: \u001b[39m\u001b[39m%r\u001b[39;00m\u001b[39m'\u001b[39m, response)\n\u001b[1;32m     92\u001b[0m \u001b[39mreturn\u001b[39;00m \u001b[39mself\u001b[39m\u001b[39m.\u001b[39m_response_handler(parent, params, response)\n",
      "File \u001b[0;32m/opt/miniconda3/envs/boto3/lib/python3.10/site-packages/botocore/client.py:508\u001b[0m, in \u001b[0;36mClientCreator._create_api_method.<locals>._api_call\u001b[0;34m(self, *args, **kwargs)\u001b[0m\n\u001b[1;32m    504\u001b[0m     \u001b[39mraise\u001b[39;00m \u001b[39mTypeError\u001b[39;00m(\n\u001b[1;32m    505\u001b[0m         \u001b[39mf\u001b[39m\u001b[39m\"\u001b[39m\u001b[39m{\u001b[39;00mpy_operation_name\u001b[39m}\u001b[39;00m\u001b[39m() only accepts keyword arguments.\u001b[39m\u001b[39m\"\u001b[39m\n\u001b[1;32m    506\u001b[0m     )\n\u001b[1;32m    507\u001b[0m \u001b[39m# The \"self\" in this scope is referring to the BaseClient.\u001b[39;00m\n\u001b[0;32m--> 508\u001b[0m \u001b[39mreturn\u001b[39;00m \u001b[39mself\u001b[39;49m\u001b[39m.\u001b[39;49m_make_api_call(operation_name, kwargs)\n",
      "File \u001b[0;32m/opt/miniconda3/envs/boto3/lib/python3.10/site-packages/botocore/client.py:911\u001b[0m, in \u001b[0;36mBaseClient._make_api_call\u001b[0;34m(self, operation_name, api_params)\u001b[0m\n\u001b[1;32m    909\u001b[0m     error_code \u001b[39m=\u001b[39m parsed_response\u001b[39m.\u001b[39mget(\u001b[39m\"\u001b[39m\u001b[39mError\u001b[39m\u001b[39m\"\u001b[39m, {})\u001b[39m.\u001b[39mget(\u001b[39m\"\u001b[39m\u001b[39mCode\u001b[39m\u001b[39m\"\u001b[39m)\n\u001b[1;32m    910\u001b[0m     error_class \u001b[39m=\u001b[39m \u001b[39mself\u001b[39m\u001b[39m.\u001b[39mexceptions\u001b[39m.\u001b[39mfrom_code(error_code)\n\u001b[0;32m--> 911\u001b[0m     \u001b[39mraise\u001b[39;00m error_class(parsed_response, operation_name)\n\u001b[1;32m    912\u001b[0m \u001b[39melse\u001b[39;00m:\n\u001b[1;32m    913\u001b[0m     \u001b[39mreturn\u001b[39;00m parsed_response\n",
      "\u001b[0;31mClientError\u001b[0m: An error occurred (InvalidAMIID.NotFound) when calling the RunInstances operation: The image id '[ami-0de53d8956e8dcf80]' does not exist"
     ]
    }
   ],
   "source": [
    "instances = ec2.create_instances(\n",
    " ImageId='ami-07620139298af599e',\n",
    " InstanceType='t2.micro',\n",
    " MaxCount=1,\n",
    " MinCount=1,\n",
    " NetworkInterfaces=[{\n",
    " 'SubnetId': subnet.id,\n",
    " 'DeviceIndex': 0,\n",
    " 'AssociatePublicIpAddress': True,\n",
    " 'Groups': [securitygroup.group_id]\n",
    " }],\n",
    " KeyName='ashkan-keypair')"
   ]
  }
 ],
 "metadata": {
  "kernelspec": {
   "display_name": "Python 3.10.4 ('boto3')",
   "language": "python",
   "name": "python3"
  },
  "language_info": {
   "codemirror_mode": {
    "name": "ipython",
    "version": 3
   },
   "file_extension": ".py",
   "mimetype": "text/x-python",
   "name": "python",
   "nbconvert_exporter": "python",
   "pygments_lexer": "ipython3",
   "version": "3.10.4"
  },
  "vscode": {
   "interpreter": {
    "hash": "b592748ac15333519fb95528ec2bdbe006a4db2ba323a26c3bf189b030670638"
   }
  }
 },
 "nbformat": 4,
 "nbformat_minor": 5
}
