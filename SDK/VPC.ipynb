{
 "cells": [
  {
   "cell_type": "markdown",
   "id": "b9003866-20d5-4510-b4cb-30792fd393c8",
   "metadata": {
    "tags": []
   },
   "source": [
    "### This is a sample SDK to create a VPC"
   ]
  },
  {
   "cell_type": "code",
   "execution_count": null,
   "id": "76a8a943-192e-48de-95fd-41eebcd11b32",
   "metadata": {},
   "outputs": [],
   "source": [
    "import boto3\n",
    "ec2 = boto3.resource('ec2')\n",
    "\n",
    "#create VPC\n",
    "vpc = ec2.create_vpc(CidrBlock='10.1.0.0/16')\n",
    "\n",
    "# assign a name to our VPC\n",
    "vpc.create_tags(Tags=[{\"Key\": \"Name\", \"Value\": \"ashkan-vpc\"}])\n",
    "vpc.wait_until_available()"
   ]
  },
  {
   "cell_type": "markdown",
   "id": "fc968daf",
   "metadata": {},
   "source": [
    "#### Enable public dns hostname so that we can SSH into it later"
   ]
  },
  {
   "cell_type": "code",
   "execution_count": null,
   "id": "d9d2d742-9fa4-43ec-9c0d-3652e6b64fc1",
   "metadata": {},
   "outputs": [],
   "source": [
    "\n",
    "ec2Client = boto3.client('ec2')\n",
    "ec2Client.modify_vpc_attribute( VpcId = vpc.id , EnableDnsSupport = { 'Value': True } )\n",
    "ec2Client.modify_vpc_attribute( VpcId = vpc.id , EnableDnsHostnames = { 'Value': True } )\n"
   ]
  },
  {
   "cell_type": "markdown",
   "id": "222fbc2c",
   "metadata": {},
   "source": [
    "#### Create an internet gateway and attach it to VPC\n"
   ]
  },
  {
   "cell_type": "code",
   "execution_count": null,
   "id": "b9288224",
   "metadata": {},
   "outputs": [],
   "source": [
    "internetgateway = ec2.create_internet_gateway()\n",
    "vpc.attach_internet_gateway(InternetGatewayId=internetgateway.id)"
   ]
  },
  {
   "cell_type": "markdown",
   "id": "bcebbfe0",
   "metadata": {},
   "source": [
    "#### Create Route Tables"
   ]
  },
  {
   "cell_type": "code",
   "execution_count": null,
   "id": "7cbf1a18",
   "metadata": {},
   "outputs": [],
   "source": [
    "# create a route table and a public route\n",
    "routetable = vpc.create_route_table()\n",
    "route = routetable.create_route(DestinationCidrBlock='0.0.0.0/0', GatewayId=internetgateway.id)"
   ]
  },
  {
   "cell_type": "markdown",
   "id": "95473cdd",
   "metadata": {},
   "source": [
    "#### Create subnet and associate it with route table"
   ]
  },
  {
   "cell_type": "code",
   "execution_count": null,
   "id": "8cd4e5e7",
   "metadata": {},
   "outputs": [],
   "source": [
    "\n",
    "subnet = ec2.create_subnet(CidrBlock='10.1.0.0/24', VpcId=vpc.id)\n",
    "routetable.associate_with_subnet(SubnetId=subnet.id)"
   ]
  },
  {
   "cell_type": "markdown",
   "id": "13ffa6d7",
   "metadata": {},
   "source": [
    "#### Create a security group and allow SSH inbound rule through the VPC"
   ]
  },
  {
   "cell_type": "code",
   "execution_count": null,
   "id": "4ac53422",
   "metadata": {},
   "outputs": [],
   "source": [
    "# Create a security group and allow SSH inbound rule through the VPC\n",
    "securitygroup = ec2.create_security_group(GroupName='SSH-ONLY', Description='only allow SSH traffic', VpcId=vpc.id)\n",
    "securitygroup.authorize_ingress(CidrIp='0.0.0.0/0', IpProtocol='tcp', FromPort=22, ToPort=22)"
   ]
  },
  {
   "cell_type": "markdown",
   "id": "de26d2f5",
   "metadata": {},
   "source": [
    "#### Create a linux instance in the subnet"
   ]
  },
  {
   "cell_type": "code",
   "execution_count": null,
   "id": "6dce1cfb",
   "metadata": {},
   "outputs": [],
   "source": [
    "instances = ec2.create_instances(\n",
    " ImageId='ami-07620139298af599e',\n",
    " InstanceType='t2.micro',\n",
    " \n",
    " MaxCount=1,\n",
    " MinCount=1,\n",
    " NetworkInterfaces=[{\n",
    " 'SubnetId': subnet.id,\n",
    " 'DeviceIndex': 0,\n",
    " 'AssociatePublicIpAddress': True,\n",
    " 'Groups': [securitygroup.group_id]\n",
    " }],\n",
    " KeyName='ashkan-keypair')"
   ]
  },
  {
   "cell_type": "code",
   "execution_count": null,
   "id": "8b61031a",
   "metadata": {},
   "outputs": [],
   "source": [
    "instances"
   ]
  },
  {
   "cell_type": "code",
   "execution_count": null,
   "id": "47d7eaea",
   "metadata": {},
   "outputs": [],
   "source": [
    "!aws ec2 describe-instances"
   ]
  },
  {
   "cell_type": "code",
   "execution_count": null,
   "id": "543c5db0",
   "metadata": {},
   "outputs": [],
   "source": []
  }
 ],
 "metadata": {
  "kernelspec": {
   "display_name": "Python 3.10.4 ('boto3')",
   "language": "python",
   "name": "python3"
  },
  "language_info": {
   "codemirror_mode": {
    "name": "ipython",
    "version": 3
   },
   "file_extension": ".py",
   "mimetype": "text/x-python",
   "name": "python",
   "nbconvert_exporter": "python",
   "pygments_lexer": "ipython3",
   "version": "3.10.4"
  },
  "vscode": {
   "interpreter": {
    "hash": "b592748ac15333519fb95528ec2bdbe006a4db2ba323a26c3bf189b030670638"
   }
  }
 },
 "nbformat": 4,
 "nbformat_minor": 5
}
