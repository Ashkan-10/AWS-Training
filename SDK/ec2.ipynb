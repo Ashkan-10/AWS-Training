{
 "cells": [
  {
   "cell_type": "markdown",
   "metadata": {},
   "source": [
    "## List All AWS EC2 Instances"
   ]
  },
  {
   "cell_type": "code",
   "execution_count": null,
   "metadata": {},
   "outputs": [],
   "source": [
    "import boto3\n",
    "ec2 = boto3.resource('ec2')"
   ]
  },
  {
   "cell_type": "code",
   "execution_count": null,
   "metadata": {},
   "outputs": [],
   "source": [
    "\n",
    "for instance in ec2.instances.all():\n",
    "    print(\n",
    "         f\"Id: {instance.id}\\nPlatform: {instance.platform}\\nType: {instance.instance_type}\\nPublic IPv4: {instance.public_ip_address}\\nAMI: {instance.image.id}\\nState: {instance.state}\\n\"\n",
    "         )\n",
    "\n"
   ]
  },
  {
   "cell_type": "markdown",
   "metadata": {},
   "source": [
    "#### Starting, Stopping, and Rebooting EC2 Instances"
   ]
  },
  {
   "cell_type": "code",
   "execution_count": null,
   "metadata": {},
   "outputs": [],
   "source": [
    "ec2.Instance('i-098fa6ac5d0538a5b').stop()"
   ]
  },
  {
   "cell_type": "code",
   "execution_count": null,
   "metadata": {},
   "outputs": [],
   "source": [
    "ec2.Instance(id='i-098fa6ac5d0538a5b').start()"
   ]
  },
  {
   "cell_type": "code",
   "execution_count": null,
   "metadata": {},
   "outputs": [],
   "source": [
    "ec2.Instance('i-098fa6ac5d0538a5b').reboot()"
   ]
  },
  {
   "cell_type": "markdown",
   "metadata": {},
   "source": [
    "#### Modfying EC2 Instance Properties"
   ]
  },
  {
   "cell_type": "code",
   "execution_count": null,
   "metadata": {},
   "outputs": [],
   "source": [
    "import boto3\n",
    "ec2 = boto3.client('ec2')\n",
    "\n",
    "# choose an EC2 instance with id\n",
    "instance_id = 'i-098fa6ac5d0538a5b'\n",
    "\n",
    "# Stop the instance\n",
    "ec2.stop_instances(InstanceIds=[instance_id])\n",
    "waiter=ec2.get_waiter('instance_stopped')\n",
    "waiter.wait(InstanceIds=[instance_id])\n",
    "\n",
    "# Change the instance type\n",
    "ec2.modify_instance_attribute(InstanceId=instance_id, Attribute='instanceType', Value='t2.small')\n",
    "\n",
    "# Start the instance\n",
    "ec2.start_instances(InstanceIds=[instance_id])"
   ]
  },
  {
   "cell_type": "markdown",
   "metadata": {},
   "source": [
    "#### Terminating the EC2 Instance"
   ]
  },
  {
   "cell_type": "code",
   "execution_count": null,
   "metadata": {},
   "outputs": [],
   "source": [
    "# choose an EC2 instance with id\n",
    "instance_id = 'i-098fa6ac5d0538a5b'\n",
    "\n",
    "instance = ec2.Instance(instance_id)\n",
    "print(instance.terminate())"
   ]
  }
 ],
 "metadata": {
  "kernelspec": {
   "display_name": "Python 3.10.4 ('boto3')",
   "language": "python",
   "name": "python3"
  },
  "language_info": {
   "codemirror_mode": {
    "name": "ipython",
    "version": 3
   },
   "file_extension": ".py",
   "mimetype": "text/x-python",
   "name": "python",
   "nbconvert_exporter": "python",
   "pygments_lexer": "ipython3",
   "version": "3.10.4"
  },
  "orig_nbformat": 4,
  "vscode": {
   "interpreter": {
    "hash": "b592748ac15333519fb95528ec2bdbe006a4db2ba323a26c3bf189b030670638"
   }
  }
 },
 "nbformat": 4,
 "nbformat_minor": 2
}
